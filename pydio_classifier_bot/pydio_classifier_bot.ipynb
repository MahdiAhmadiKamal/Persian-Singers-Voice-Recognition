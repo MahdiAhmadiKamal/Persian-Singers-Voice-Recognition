{
 "cells": [
  {
   "cell_type": "code",
   "execution_count": null,
   "metadata": {
    "colab": {
     "base_uri": "https://localhost:8080/"
    },
    "collapsed": true,
    "executionInfo": {
     "elapsed": 9313,
     "status": "ok",
     "timestamp": 1744538385818,
     "user": {
      "displayName": "Mahdi Ahmadi Kamal",
      "userId": "02908466264960576341"
     },
     "user_tz": -210
    },
    "id": "T0isTRcrx4g4",
    "outputId": "1ee6f9cf-5fe6-45a5-ecdd-5f6f879177ef"
   },
   "outputs": [
    {
     "name": "stdout",
     "output_type": "stream",
     "text": [
      "\u001b[2K     \u001b[90m━━━━━━━━━━━━━━━━━━━━━━━━━━━━━━━━━━━━━━━━\u001b[0m \u001b[32m48.1/48.1 kB\u001b[0m \u001b[31m1.9 MB/s\u001b[0m eta \u001b[36m0:00:00\u001b[0m\n",
      "\u001b[2K   \u001b[90m━━━━━━━━━━━━━━━━━━━━━━━━━━━━━━━━━━━━━━━━\u001b[0m \u001b[32m270.5/270.5 kB\u001b[0m \u001b[31m5.1 MB/s\u001b[0m eta \u001b[36m0:00:00\u001b[0m\n",
      "\u001b[?25h"
     ]
    }
   ],
   "source": [
    "!pip install -q telebot\n",
    "!pip install -q pydub"
   ]
  },
  {
   "cell_type": "code",
   "execution_count": null,
   "metadata": {
    "id": "Lpkr6yIqyPCt"
   },
   "outputs": [],
   "source": [
    "import os\n",
    "import shutil\n",
    "import numpy as np\n",
    "import tensorflow as tf\n",
    "\n",
    "import pydub\n",
    "import telebot"
   ]
  },
  {
   "cell_type": "code",
   "execution_count": null,
   "metadata": {
    "colab": {
     "base_uri": "https://localhost:8080/"
    },
    "executionInfo": {
     "elapsed": 248,
     "status": "ok",
     "timestamp": 1744538869691,
     "user": {
      "displayName": "Mahdi Ahmadi Kamal",
      "userId": "02908466264960576341"
     },
     "user_tz": -210
    },
    "id": "jypPbFb5yAcs",
    "outputId": "b8651fc1-ea6b-4369-d13d-5e84c60cc175"
   },
   "outputs": [
    {
     "name": "stderr",
     "output_type": "stream",
     "text": [
      "WARNING:absl:Compiled the loaded model, but the compiled metrics have yet to be built. `model.compile_metrics` will be empty until you train or evaluate the model.\n",
      "WARNING:absl:Compiled the loaded model, but the compiled metrics have yet to be built. `model.compile_metrics` will be empty until you train or evaluate the model.\n"
     ]
    }
   ],
   "source": [
    "mybot = telebot.TeleBot(\"Enter token here.\", parse_mode=None)\n",
    "labels_friends = ['Abdollah', 'Azra', 'Davood', 'Javad', 'Khadijeh', 'Kiana', 'Mahdi', 'Maryam', 'Matin', 'Melika', 'Mohadeseh', 'Mohammad', 'Mohammad_parvari', 'Mona', 'Nahid', 'Nima', 'Omid', 'Parisa', 'Parsa', 'Sajedeh', 'Shima', 'Tara']\n",
    "labels_singers = ['Aref', 'Farhad', 'Mohammad Esfahani', 'Mohsen Yeganeh', 'Shadmehr Aghili']\n",
    "model_friends = tf.keras.models.load_model('/content/drive/MyDrive/Colab_Notebooks/PyLearn7-Assignment59/Audio-Classification/weights/audio_classification.h5')\n",
    "model_singers = tf.keras.models.load_model('/content/drive/MyDrive/Colab_Notebooks/PyLearn7-Assignment59/Audio-Classification/weights/singers_audio_classification.h5')\n"
   ]
  },
  {
   "cell_type": "code",
   "execution_count": 13,
   "metadata": {
    "colab": {
     "base_uri": "https://localhost:8080/"
    },
    "executionInfo": {
     "elapsed": 5973,
     "status": "ok",
     "timestamp": 1744539368397,
     "user": {
      "displayName": "Mahdi Ahmadi Kamal",
      "userId": "02908466264960576341"
     },
     "user_tz": -210
    },
    "id": "19mplGK-yD9Q",
    "outputId": "74246e35-4f89-4e48-ee43-76afd89c4064"
   },
   "outputs": [
    {
     "name": "stdout",
     "output_type": "stream",
     "text": [
      "The voice belongs to:  Mahdi\n",
      "The voice belongs to:  Farhad\n"
     ]
    },
    {
     "name": "stderr",
     "output_type": "stream",
     "text": [
      "2025-04-13 10:11:36,242 (__init__.py:1115 MainThread) ERROR - TeleBot: \"Infinity polling exception: 'NoneType' object has no attribute 'file_id'\"\n",
      "ERROR:TeleBot:Infinity polling exception: 'NoneType' object has no attribute 'file_id'\n",
      "2025-04-13 10:11:36,247 (__init__.py:1117 MainThread) ERROR - TeleBot: \"Exception traceback:\n",
      "Traceback (most recent call last):\n",
      "  File \"/usr/local/lib/python3.11/dist-packages/telebot/__init__.py\", line 1110, in infinity_polling\n",
      "    self.polling(non_stop=True, timeout=timeout, long_polling_timeout=long_polling_timeout,\n",
      "  File \"/usr/local/lib/python3.11/dist-packages/telebot/__init__.py\", line 1198, in polling\n",
      "    self.__threaded_polling(non_stop=non_stop, interval=interval, timeout=timeout, long_polling_timeout=long_polling_timeout,\n",
      "  File \"/usr/local/lib/python3.11/dist-packages/telebot/__init__.py\", line 1273, in __threaded_polling\n",
      "    raise e\n",
      "  File \"/usr/local/lib/python3.11/dist-packages/telebot/__init__.py\", line 1235, in __threaded_polling\n",
      "    self.worker_pool.raise_exceptions()\n",
      "  File \"/usr/local/lib/python3.11/dist-packages/telebot/util.py\", line 150, in raise_exceptions\n",
      "    raise self.exception_info\n",
      "  File \"/usr/local/lib/python3.11/dist-packages/telebot/util.py\", line 93, in run\n",
      "    task(*args, **kwargs)\n",
      "  File \"<ipython-input-13-377bbe33bcca>\", line 72, in recognize_audio_friends\n",
      "    fileID = message.voice.file_id\n",
      "             ^^^^^^^^^^^^^^^^^^^^^\n",
      "AttributeError: 'NoneType' object has no attribute 'file_id'\n",
      "\"\n",
      "ERROR:TeleBot:Exception traceback:\n",
      "Traceback (most recent call last):\n",
      "  File \"/usr/local/lib/python3.11/dist-packages/telebot/__init__.py\", line 1110, in infinity_polling\n",
      "    self.polling(non_stop=True, timeout=timeout, long_polling_timeout=long_polling_timeout,\n",
      "  File \"/usr/local/lib/python3.11/dist-packages/telebot/__init__.py\", line 1198, in polling\n",
      "    self.__threaded_polling(non_stop=non_stop, interval=interval, timeout=timeout, long_polling_timeout=long_polling_timeout,\n",
      "  File \"/usr/local/lib/python3.11/dist-packages/telebot/__init__.py\", line 1273, in __threaded_polling\n",
      "    raise e\n",
      "  File \"/usr/local/lib/python3.11/dist-packages/telebot/__init__.py\", line 1235, in __threaded_polling\n",
      "    self.worker_pool.raise_exceptions()\n",
      "  File \"/usr/local/lib/python3.11/dist-packages/telebot/util.py\", line 150, in raise_exceptions\n",
      "    raise self.exception_info\n",
      "  File \"/usr/local/lib/python3.11/dist-packages/telebot/util.py\", line 93, in run\n",
      "    task(*args, **kwargs)\n",
      "  File \"<ipython-input-13-377bbe33bcca>\", line 72, in recognize_audio_friends\n",
      "    fileID = message.voice.file_id\n",
      "             ^^^^^^^^^^^^^^^^^^^^^\n",
      "AttributeError: 'NoneType' object has no attribute 'file_id'\n",
      "\n",
      "2025-04-13 10:11:50,774 (__init__.py:1115 MainThread) ERROR - TeleBot: \"Infinity polling exception: [Errno 2] No such file or directory: 'voice/file_35.oga'\"\n",
      "ERROR:TeleBot:Infinity polling exception: [Errno 2] No such file or directory: 'voice/file_35.oga'\n",
      "2025-04-13 10:11:50,777 (__init__.py:1117 MainThread) ERROR - TeleBot: \"Exception traceback:\n",
      "Traceback (most recent call last):\n",
      "  File \"/usr/local/lib/python3.11/dist-packages/telebot/__init__.py\", line 1110, in infinity_polling\n",
      "    self.polling(non_stop=True, timeout=timeout, long_polling_timeout=long_polling_timeout,\n",
      "  File \"/usr/local/lib/python3.11/dist-packages/telebot/__init__.py\", line 1198, in polling\n",
      "    self.__threaded_polling(non_stop=non_stop, interval=interval, timeout=timeout, long_polling_timeout=long_polling_timeout,\n",
      "  File \"/usr/local/lib/python3.11/dist-packages/telebot/__init__.py\", line 1273, in __threaded_polling\n",
      "    raise e\n",
      "  File \"/usr/local/lib/python3.11/dist-packages/telebot/__init__.py\", line 1235, in __threaded_polling\n",
      "    self.worker_pool.raise_exceptions()\n",
      "  File \"/usr/local/lib/python3.11/dist-packages/telebot/util.py\", line 150, in raise_exceptions\n",
      "    raise self.exception_info\n",
      "  File \"/usr/local/lib/python3.11/dist-packages/telebot/util.py\", line 93, in run\n",
      "    task(*args, **kwargs)\n",
      "  File \"<ipython-input-13-377bbe33bcca>\", line 77, in recognize_audio_friends\n",
      "    with open(file_path, 'wb') as new_file:\n",
      "         ^^^^^^^^^^^^^^^^^^^^^\n",
      "FileNotFoundError: [Errno 2] No such file or directory: 'voice/file_35.oga'\n",
      "\"\n",
      "ERROR:TeleBot:Exception traceback:\n",
      "Traceback (most recent call last):\n",
      "  File \"/usr/local/lib/python3.11/dist-packages/telebot/__init__.py\", line 1110, in infinity_polling\n",
      "    self.polling(non_stop=True, timeout=timeout, long_polling_timeout=long_polling_timeout,\n",
      "  File \"/usr/local/lib/python3.11/dist-packages/telebot/__init__.py\", line 1198, in polling\n",
      "    self.__threaded_polling(non_stop=non_stop, interval=interval, timeout=timeout, long_polling_timeout=long_polling_timeout,\n",
      "  File \"/usr/local/lib/python3.11/dist-packages/telebot/__init__.py\", line 1273, in __threaded_polling\n",
      "    raise e\n",
      "  File \"/usr/local/lib/python3.11/dist-packages/telebot/__init__.py\", line 1235, in __threaded_polling\n",
      "    self.worker_pool.raise_exceptions()\n",
      "  File \"/usr/local/lib/python3.11/dist-packages/telebot/util.py\", line 150, in raise_exceptions\n",
      "    raise self.exception_info\n",
      "  File \"/usr/local/lib/python3.11/dist-packages/telebot/util.py\", line 93, in run\n",
      "    task(*args, **kwargs)\n",
      "  File \"<ipython-input-13-377bbe33bcca>\", line 77, in recognize_audio_friends\n",
      "    with open(file_path, 'wb') as new_file:\n",
      "         ^^^^^^^^^^^^^^^^^^^^^\n",
      "FileNotFoundError: [Errno 2] No such file or directory: 'voice/file_35.oga'\n",
      "\n"
     ]
    },
    {
     "name": "stdout",
     "output_type": "stream",
     "text": [
      "The voice belongs to:  Farhad\n"
     ]
    },
    {
     "name": "stderr",
     "output_type": "stream",
     "text": [
      "2025-04-13 10:16:08,669 (__init__.py:1121 MainThread) ERROR - TeleBot: \"Infinity polling: polling exited\"\n",
      "ERROR:TeleBot:Infinity polling: polling exited\n",
      "2025-04-13 10:16:08,672 (__init__.py:1123 MainThread) ERROR - TeleBot: \"Break infinity polling\"\n",
      "ERROR:TeleBot:Break infinity polling\n"
     ]
    }
   ],
   "source": [
    "@mybot.message_handler(commands=['start'])\n",
    "def send_welcome(message):\n",
    "    msg = mybot.send_message(message.chat.id,\"Hi \"+str(message.chat.first_name) + \"\\n\" +\n",
    "                             \"Welcome to 'pydio classifier bot'\" + \"\\n\" +\n",
    "                             \"/start_audio_recognition\")\n",
    "\n",
    "\n",
    "@mybot.message_handler(commands=['start_audio_recognition'])\n",
    "def help(message):\n",
    "    os.makedirs(\"voice\", exist_ok=True )\n",
    "    os.makedirs(\"input_audio\", exist_ok=True)\n",
    "    os.makedirs(\"input_audio_chunks\", exist_ok=True)\n",
    "\n",
    "    my_keyboard= telebot.types.ReplyKeyboardMarkup(row_width=0)\n",
    "    key1 = telebot.types.KeyboardButton(\"/friends_audio_recognition\")\n",
    "    key2 = telebot.types.KeyboardButton(\"/singers_audio_recognition\")\n",
    "    my_keyboard.row(key1)\n",
    "    my_keyboard.row(key2)\n",
    "    mybot.send_message(message.chat.id ,\"Choose one of the keys below:\" , reply_markup=my_keyboard)\n",
    "\n",
    "@mybot.message_handler(commands=['friends_audio_recognition'])\n",
    "def send_audio(message):\n",
    "    msg1 = mybot.reply_to(message,\"If your name is in the list below, this bot can recognize your sound.\" + \"\\n\" +\n",
    "                            \"[Abdollah, Azra, Davood, Javad, Khadijeh, Kiana, Mahdi, Maryam,Matin, Melika, Mohadeseh, Mohammad, Mohammad_parvari, Mona, Nahid,Nima, Omid, Parisa, Parsa, Sajedeh, Shima, Tara]\" + \"\\n\" +\n",
    "                            \"Please send me a few seconds of your voice.\")\n",
    "    mybot.register_next_step_handler(msg1,recognize_audio_friends)\n",
    "\n",
    "\n",
    "@mybot.message_handler(commands=['singers_audio_recognition'])\n",
    "def send_audio(message):\n",
    "    msg2 = mybot.reply_to(message,\"Please send me a few seconds of the voice of one of the singers below.\" + \"\\n\" +\n",
    "                          \"['Aref', 'Farhad', 'Mohammad Esfahani', 'Mohsen Yeganeh', 'Shadmehr Aghili']\")\n",
    "    mybot.register_next_step_handler(msg2,recognize_audio_singers)\n",
    "\n",
    "\n",
    "def audio_preprocess(file_path):\n",
    "\n",
    "    audio = pydub.AudioSegment.from_file(file_path)\n",
    "\n",
    "    audio = audio.set_sample_width(2)    # convert to 16-bit (2 bytes per sample) to avoid tensorflow error\n",
    "    audio = audio.set_frame_rate(48000)\n",
    "    audio = audio.set_channels(1)        # convert stereo audio to mono audio to avoid tensorflow error\n",
    "\n",
    "    chunks = pydub.silence.split_on_silence(audio, min_silence_len=2000, silence_thresh=-45)\n",
    "    result = sum(chunks)\n",
    "    result.export(\"input_audio/input_audio.wav\", format=\"wav\")\n",
    "\n",
    "    audio = pydub.AudioSegment.from_file(\"input_audio/input_audio.wav\")\n",
    "    chunks = pydub.utils.make_chunks(audio, 1000)\n",
    "\n",
    "    for i , chunk in enumerate(chunks):\n",
    "        if len(chunk) < 1000 :\n",
    "            continue\n",
    "        chunk.export(os.path.join(\"input_audio_chunks\", f\"voice{i}.wav\"), format=\"wav\")\n",
    "\n",
    "    audio_chunks = []\n",
    "    for audio_chunk in os.listdir(\"input_audio_chunks\"):\n",
    "        audio_chunks.append(audio_chunk)\n",
    "\n",
    "    xs = []\n",
    "    for audio_chunk in audio_chunks:\n",
    "        x = tf.io.read_file(\"input_audio_chunks/\"+audio_chunk)\n",
    "        x, sample_rate = tf.audio.decode_wav(x, desired_channels=1, desired_samples=48000)\n",
    "        x = tf.squeeze(x, axis=-1)\n",
    "        x = x[tf.newaxis,...]\n",
    "        xs.append(x)\n",
    "\n",
    "    return xs\n",
    "\n",
    "def recognize_audio_friends(message):\n",
    "\n",
    "    fileID = message.voice.file_id\n",
    "    file_info = mybot.get_file(fileID)\n",
    "    file_path = file_info.file_path\n",
    "    downloaded_file = mybot.download_file(file_path)\n",
    "\n",
    "    with open(file_path, 'wb') as new_file:\n",
    "        new_file.write(downloaded_file)\n",
    "\n",
    "    xs = audio_preprocess(file_path)\n",
    "\n",
    "    preds = []\n",
    "    for x in xs:\n",
    "        pred = model_friends(x)\n",
    "        label = np.argmax(pred)\n",
    "        preds.append(labels_friends[label])\n",
    "    # print(preds)\n",
    "    most_common = max(set(preds), key=preds.count)                # Finds the most common element in preds list\n",
    "    # print(most)\n",
    "    print(\"The voice belongs to: \", most_common)\n",
    "\n",
    "    mybot.reply_to(message, f'The voice belongs to {most_common}')\n",
    "\n",
    "    shutil.rmtree('voice')                  # clears folder 'voice'\n",
    "    shutil.rmtree('input_audio')            # clears folder 'input_audio'\n",
    "    shutil.rmtree('input_audio_chunks')     # clears folder 'input_audio_chunks'\n",
    "\n",
    "def recognize_audio_singers(message):\n",
    "\n",
    "    fileID = message.voice.file_id\n",
    "    file_info = mybot.get_file(fileID)\n",
    "    file_path = file_info.file_path\n",
    "    downloaded_file = mybot.download_file(file_path)\n",
    "\n",
    "    with open(file_path, 'wb') as new_file:\n",
    "        new_file.write(downloaded_file)\n",
    "\n",
    "    xs = audio_preprocess(file_path)\n",
    "\n",
    "    preds = []\n",
    "    for x in xs:\n",
    "        pred = model_singers(x)\n",
    "        label = np.argmax(pred)\n",
    "        preds.append(labels_singers[label])\n",
    "    # print(preds)\n",
    "    most_common = max(set(preds), key=preds.count)                # Finds the most common element in preds list\n",
    "    # print(most)\n",
    "    print(\"The voice belongs to: \", most_common)\n",
    "\n",
    "    mybot.reply_to(message, f'The voice belongs to {most_common}')\n",
    "\n",
    "    shutil.rmtree('voice')                  # clears folder 'voice'\n",
    "    shutil.rmtree('input_audio')            # clears folder 'input_audio'\n",
    "    shutil.rmtree('input_audio_chunks')     # clears folder 'input_audio_chunks'\n",
    "\n",
    "mybot.infinity_polling()"
   ]
  }
 ],
 "metadata": {
  "colab": {
   "authorship_tag": "ABX9TyPlXoQlR0a5G9WvAB0sORlC",
   "mount_file_id": "1fiGz5eWs0wIuiPGW-cEFbZONXjX6qbsc",
   "provenance": []
  },
  "kernelspec": {
   "display_name": "Python 3",
   "name": "python3"
  },
  "language_info": {
   "name": "python"
  }
 },
 "nbformat": 4,
 "nbformat_minor": 0
}
